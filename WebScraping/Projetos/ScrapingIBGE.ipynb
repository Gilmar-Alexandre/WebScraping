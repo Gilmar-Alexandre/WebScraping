{
 "cells": [
  {
   "cell_type": "code",
   "execution_count": 1,
   "id": "53ed4993-64ba-496d-86a9-043bbbd24974",
   "metadata": {},
   "outputs": [],
   "source": [
    "import requests\n",
    "from bs4 import BeautifulSoup\n",
    "import pandas as pd"
   ]
  },
  {
   "cell_type": "code",
   "execution_count": 5,
   "id": "f658085f-0244-42e2-a617-c59e0eb93468",
   "metadata": {},
   "outputs": [],
   "source": [
    "uf_url = f'https://www.ibge.gov.br/cidades-e-estados/sp.html'\n",
    "page = requests.get(uf_url, headers = browsers)\n",
    "    \n",
    "soup = BeautifulSoup(page.content, 'html.parser')\n",
    "indicadores = soup.select('.indicador')"
   ]
  },
  {
   "cell_type": "code",
   "execution_count": 9,
   "id": "c2461afd-f4f5-402c-ac11-f6acec05d1de",
   "metadata": {},
   "outputs": [],
   "source": [
    "def scraping_uf(uf: str):\n",
    "    uf_url = f'https://www.ibge.gov.br/cidades-e-estados/{uf}.html'\n",
    "    page = requests.get(uf_url, headers = browsers)\n",
    "    \n",
    "    soup = BeautifulSoup(page.content, 'html.parser')\n",
    "    indicadores = soup.select('.indicador')\n",
    "    \n",
    "    uf_dict = {\n",
    "        dado.select('.ind-label')[0].text: dado.select('.ind-value')[0].text\n",
    "        for dado in indicadores\n",
    "    }\n",
    "    \n",
    "    return uf_dict"
   ]
  },
  {
   "cell_type": "code",
   "execution_count": 11,
   "id": "7ad80edf-b98e-42b8-9c5b-8d21c2eeb893",
   "metadata": {},
   "outputs": [
    {
     "data": {
      "text/plain": [
       "{'Governador': 'TARCISIO GOMES DE FREITAS\\xa0\\xa0\\xa0[2023]',\n",
       " 'Capital': 'São Paulo\\xa0\\xa0\\xa0[2010]',\n",
       " 'Gentílico': 'paulista',\n",
       " 'Área Territorial': '248.219,485 km²\\xa0\\xa0\\xa0[2022]',\n",
       " 'População residente': '44.411.238 pessoas\\xa0\\xa0\\xa0[2022]',\n",
       " 'Densidade demográfica': '178,92 hab/km²\\xa0\\xa0\\xa0[2022]',\n",
       " 'Matrículas no ensino fundamental': '5.343.271 matrículas\\xa0\\xa0\\xa0[2023]',\n",
       " 'IDH Índice de desenvolvimento humano': '0,806\\xa0\\xa0\\xa0[2021]',\n",
       " 'Receitas realizadas': '343.634.435.413,40 R$ (×1000)\\xa0\\xa0\\xa0[2023]',\n",
       " 'Despesas empenhadas': '328.315.580.393,50 R$ (×1000)\\xa0\\xa0\\xa0[2023]',\n",
       " 'Rendimento mensal domiciliar per capita': '2.492 R$\\xa0\\xa0\\xa0[2023]',\n",
       " 'Total de veículos': '33.264.096 veículos\\xa0\\xa0\\xa0[2023]'}"
      ]
     },
     "execution_count": 11,
     "metadata": {},
     "output_type": "execute_result"
    }
   ],
   "source": [
    "estado = scraping_uf('sp')\n",
    "estado"
   ]
  },
  {
   "cell_type": "code",
   "execution_count": 13,
   "id": "0a3532a9-36ac-4ee5-a2e4-261d537c69cc",
   "metadata": {},
   "outputs": [
    {
     "data": {
      "text/plain": [
       "{'Governador': 'TARCISIO GOMES DE FREITAS',\n",
       " 'Capital': 'São Paulo',\n",
       " 'Gentílico': 'paulista',\n",
       " 'Área Territorial': '248.219,485 km²',\n",
       " 'População residente': '44.411.238 pessoas',\n",
       " 'Densidade demográfica': '178,92 hab/km²',\n",
       " 'Matrículas no ensino fundamental': '5.343.271 matrículas',\n",
       " 'IDH Índice de desenvolvimento humano': '0,806',\n",
       " 'Receitas realizadas': '343.634.435.413,40 R$ (×1000)',\n",
       " 'Despesas empenhadas': '328.315.580.393,50 R$ (×1000)',\n",
       " 'Rendimento mensal domiciliar per capita': '2.492 R$',\n",
       " 'Total de veículos': '33.264.096 veículos'}"
      ]
     },
     "execution_count": 13,
     "metadata": {},
     "output_type": "execute_result"
    }
   ],
   "source": [
    "for indicador in estado:\n",
    "    if ']' in estado[indicador]:\n",
    "        estado[indicador] = estado[indicador].split(']')[0][:-8]\n",
    "    else:\n",
    "        estado[indicador] = estado[indicador]\n",
    "estado"
   ]
  },
  {
   "cell_type": "code",
   "execution_count": 15,
   "id": "8f9ecd59-e8c8-45d6-b760-2575c1db89a0",
   "metadata": {},
   "outputs": [],
   "source": [
    "df = pd.DataFrame(estado.values(), index=estado.keys())"
   ]
  },
  {
   "cell_type": "code",
   "execution_count": 17,
   "id": "d75227cd-bced-44d6-b802-4780bdea5e2d",
   "metadata": {},
   "outputs": [
    {
     "data": {
      "text/html": [
       "<div>\n",
       "<style scoped>\n",
       "    .dataframe tbody tr th:only-of-type {\n",
       "        vertical-align: middle;\n",
       "    }\n",
       "\n",
       "    .dataframe tbody tr th {\n",
       "        vertical-align: top;\n",
       "    }\n",
       "\n",
       "    .dataframe thead th {\n",
       "        text-align: right;\n",
       "    }\n",
       "</style>\n",
       "<table border=\"1\" class=\"dataframe\">\n",
       "  <thead>\n",
       "    <tr style=\"text-align: right;\">\n",
       "      <th></th>\n",
       "      <th>0</th>\n",
       "    </tr>\n",
       "  </thead>\n",
       "  <tbody>\n",
       "    <tr>\n",
       "      <th>Governador</th>\n",
       "      <td>TARCISIO GOMES DE FREITAS</td>\n",
       "    </tr>\n",
       "    <tr>\n",
       "      <th>Capital</th>\n",
       "      <td>São Paulo</td>\n",
       "    </tr>\n",
       "    <tr>\n",
       "      <th>Gentílico</th>\n",
       "      <td>paulista</td>\n",
       "    </tr>\n",
       "    <tr>\n",
       "      <th>Área Territorial</th>\n",
       "      <td>248.219,485 km²</td>\n",
       "    </tr>\n",
       "    <tr>\n",
       "      <th>População residente</th>\n",
       "      <td>44.411.238 pessoas</td>\n",
       "    </tr>\n",
       "    <tr>\n",
       "      <th>Densidade demográfica</th>\n",
       "      <td>178,92 hab/km²</td>\n",
       "    </tr>\n",
       "    <tr>\n",
       "      <th>Matrículas no ensino fundamental</th>\n",
       "      <td>5.343.271 matrículas</td>\n",
       "    </tr>\n",
       "    <tr>\n",
       "      <th>IDH Índice de desenvolvimento humano</th>\n",
       "      <td>0,806</td>\n",
       "    </tr>\n",
       "    <tr>\n",
       "      <th>Receitas realizadas</th>\n",
       "      <td>343.634.435.413,40 R$ (×1000)</td>\n",
       "    </tr>\n",
       "    <tr>\n",
       "      <th>Despesas empenhadas</th>\n",
       "      <td>328.315.580.393,50 R$ (×1000)</td>\n",
       "    </tr>\n",
       "    <tr>\n",
       "      <th>Rendimento mensal domiciliar per capita</th>\n",
       "      <td>2.492 R$</td>\n",
       "    </tr>\n",
       "    <tr>\n",
       "      <th>Total de veículos</th>\n",
       "      <td>33.264.096 veículos</td>\n",
       "    </tr>\n",
       "  </tbody>\n",
       "</table>\n",
       "</div>"
      ],
      "text/plain": [
       "                                                                     0\n",
       "Governador                                   TARCISIO GOMES DE FREITAS\n",
       "Capital                                                      São Paulo\n",
       "Gentílico                                                     paulista\n",
       "Área Territorial                                       248.219,485 km²\n",
       "População residente                                 44.411.238 pessoas\n",
       "Densidade demográfica                                   178,92 hab/km²\n",
       "Matrículas no ensino fundamental                 5.343.271 matrículas\n",
       "IDH Índice de desenvolvimento humano                            0,806\n",
       "Receitas realizadas                      343.634.435.413,40 R$ (×1000)\n",
       "Despesas empenhadas                      328.315.580.393,50 R$ (×1000)\n",
       "Rendimento mensal domiciliar per capita                       2.492 R$\n",
       "Total de veículos                                  33.264.096 veículos"
      ]
     },
     "execution_count": 17,
     "metadata": {},
     "output_type": "execute_result"
    }
   ],
   "source": [
    "df"
   ]
  },
  {
   "cell_type": "code",
   "execution_count": null,
   "id": "72163e16-1278-4538-b6a7-aacb90f62380",
   "metadata": {},
   "outputs": [],
   "source": []
  }
 ],
 "metadata": {
  "kernelspec": {
   "display_name": "Python 3 (ipykernel)",
   "language": "python",
   "name": "python3"
  },
  "language_info": {
   "codemirror_mode": {
    "name": "ipython",
    "version": 3
   },
   "file_extension": ".py",
   "mimetype": "text/x-python",
   "name": "python",
   "nbconvert_exporter": "python",
   "pygments_lexer": "ipython3",
   "version": "3.12.4"
  }
 },
 "nbformat": 4,
 "nbformat_minor": 5
}
