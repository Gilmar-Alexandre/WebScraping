{
 "cells": [
  {
   "cell_type": "code",
   "execution_count": 17,
   "id": "53ed4993-64ba-496d-86a9-043bbbd24974",
   "metadata": {},
   "outputs": [],
   "source": [
    "import requests\n",
    "from bs4 import BeautifulSoup\n",
    "import pandas as pd"
   ]
  },
  {
   "cell_type": "code",
   "execution_count": 23,
   "id": "f658085f-0244-42e2-a617-c59e0eb93468",
   "metadata": {},
   "outputs": [],
   "source": [
    "uf_url = f'https://www.ibge.gov.br/cidades-e-estados/sp.html'\n",
    "browsers = {'User-Agent': \"Mozilla/5.0 (Windows NT 10.0; Win64; x64) AppleWebKit/537.36 /(KHTML, like Gecko) Chrome / 86.0.4240.198Safari / 537.36\"}\n",
    "page = requests.get(uf_url, headers = browsers)\n",
    "    \n",
    "soup = BeautifulSoup(page.content, 'html.parser')\n",
    "indicadores = soup.select('.indicador')"
   ]
  },
  {
   "cell_type": "code",
   "execution_count": 25,
   "id": "c2461afd-f4f5-402c-ac11-f6acec05d1de",
   "metadata": {},
   "outputs": [],
   "source": [
    "def scraping_uf(uf: str):\n",
    "    uf_url = f'https://www.ibge.gov.br/cidades-e-estados/{uf}.html'\n",
    "    page = requests.get(uf_url, headers = browsers)\n",
    "    \n",
    "    soup = BeautifulSoup(page.content, 'html.parser')\n",
    "    indicadores = soup.select('.indicador')\n",
    "    \n",
    "    uf_dict = {\n",
    "        dado.select('.ind-label')[0].text: dado.select('.ind-value')[0].text\n",
    "        for dado in indicadores\n",
    "    }\n",
    "    \n",
    "    return uf_dict"
   ]
  },
  {
   "cell_type": "code",
   "execution_count": 27,
   "id": "7ad80edf-b98e-42b8-9c5b-8d21c2eeb893",
   "metadata": {},
   "outputs": [
    {
     "data": {
      "text/plain": [
       "{'Governador': 'ROMEU ZEMA NETO\\xa0\\xa0\\xa0[2023]',\n",
       " 'Capital': 'Belo Horizonte\\xa0\\xa0\\xa0[2010]',\n",
       " 'Gentílico': 'mineiro',\n",
       " 'Área Territorial': '586.513,983 km²\\xa0\\xa0\\xa0[2022]',\n",
       " 'População residente': '20.539.989 pessoas\\xa0\\xa0\\xa0[2022]',\n",
       " 'Densidade demográfica': '35,02 hab/km²\\xa0\\xa0\\xa0[2022]',\n",
       " 'Matrículas no ensino fundamental': '2.343.279 matrículas\\xa0\\xa0\\xa0[2023]',\n",
       " 'IDH Índice de desenvolvimento humano': '0,774\\xa0\\xa0\\xa0[2021]',\n",
       " 'Receitas realizadas': '138.168.422.501,96 R$ (×1000)\\xa0\\xa0\\xa0[2023]',\n",
       " 'Despesas empenhadas': '110.408.991.645,56 R$ (×1000)\\xa0\\xa0\\xa0[2023]',\n",
       " 'Rendimento mensal domiciliar per capita': '1.918 R$\\xa0\\xa0\\xa0[2023]',\n",
       " 'Total de veículos': '13.481.706 veículos\\xa0\\xa0\\xa0[2023]'}"
      ]
     },
     "execution_count": 27,
     "metadata": {},
     "output_type": "execute_result"
    }
   ],
   "source": [
    "estado = scraping_uf('mg')\n",
    "estado"
   ]
  },
  {
   "cell_type": "code",
   "execution_count": 29,
   "id": "0a3532a9-36ac-4ee5-a2e4-261d537c69cc",
   "metadata": {},
   "outputs": [
    {
     "data": {
      "text/plain": [
       "{'Governador': 'ROMEU ZEMA NETO',\n",
       " 'Capital': 'Belo Horizonte',\n",
       " 'Gentílico': 'mineiro',\n",
       " 'Área Territorial': '586.513,983 km²',\n",
       " 'População residente': '20.539.989 pessoas',\n",
       " 'Densidade demográfica': '35,02 hab/km²',\n",
       " 'Matrículas no ensino fundamental': '2.343.279 matrículas',\n",
       " 'IDH Índice de desenvolvimento humano': '0,774',\n",
       " 'Receitas realizadas': '138.168.422.501,96 R$ (×1000)',\n",
       " 'Despesas empenhadas': '110.408.991.645,56 R$ (×1000)',\n",
       " 'Rendimento mensal domiciliar per capita': '1.918 R$',\n",
       " 'Total de veículos': '13.481.706 veículos'}"
      ]
     },
     "execution_count": 29,
     "metadata": {},
     "output_type": "execute_result"
    }
   ],
   "source": [
    "for indicador in estado:\n",
    "    if ']' in estado[indicador]:\n",
    "        estado[indicador] = estado[indicador].split(']')[0][:-8]\n",
    "    else:\n",
    "        estado[indicador] = estado[indicador]\n",
    "estado"
   ]
  },
  {
   "cell_type": "code",
   "execution_count": 31,
   "id": "8f9ecd59-e8c8-45d6-b760-2575c1db89a0",
   "metadata": {},
   "outputs": [],
   "source": [
    "df = pd.DataFrame(estado.values(), index=estado.keys())"
   ]
  },
  {
   "cell_type": "code",
   "execution_count": 33,
   "id": "d75227cd-bced-44d6-b802-4780bdea5e2d",
   "metadata": {},
   "outputs": [
    {
     "data": {
      "text/html": [
       "<div>\n",
       "<style scoped>\n",
       "    .dataframe tbody tr th:only-of-type {\n",
       "        vertical-align: middle;\n",
       "    }\n",
       "\n",
       "    .dataframe tbody tr th {\n",
       "        vertical-align: top;\n",
       "    }\n",
       "\n",
       "    .dataframe thead th {\n",
       "        text-align: right;\n",
       "    }\n",
       "</style>\n",
       "<table border=\"1\" class=\"dataframe\">\n",
       "  <thead>\n",
       "    <tr style=\"text-align: right;\">\n",
       "      <th></th>\n",
       "      <th>0</th>\n",
       "    </tr>\n",
       "  </thead>\n",
       "  <tbody>\n",
       "    <tr>\n",
       "      <th>Governador</th>\n",
       "      <td>ROMEU ZEMA NETO</td>\n",
       "    </tr>\n",
       "    <tr>\n",
       "      <th>Capital</th>\n",
       "      <td>Belo Horizonte</td>\n",
       "    </tr>\n",
       "    <tr>\n",
       "      <th>Gentílico</th>\n",
       "      <td>mineiro</td>\n",
       "    </tr>\n",
       "    <tr>\n",
       "      <th>Área Territorial</th>\n",
       "      <td>586.513,983 km²</td>\n",
       "    </tr>\n",
       "    <tr>\n",
       "      <th>População residente</th>\n",
       "      <td>20.539.989 pessoas</td>\n",
       "    </tr>\n",
       "    <tr>\n",
       "      <th>Densidade demográfica</th>\n",
       "      <td>35,02 hab/km²</td>\n",
       "    </tr>\n",
       "    <tr>\n",
       "      <th>Matrículas no ensino fundamental</th>\n",
       "      <td>2.343.279 matrículas</td>\n",
       "    </tr>\n",
       "    <tr>\n",
       "      <th>IDH Índice de desenvolvimento humano</th>\n",
       "      <td>0,774</td>\n",
       "    </tr>\n",
       "    <tr>\n",
       "      <th>Receitas realizadas</th>\n",
       "      <td>138.168.422.501,96 R$ (×1000)</td>\n",
       "    </tr>\n",
       "    <tr>\n",
       "      <th>Despesas empenhadas</th>\n",
       "      <td>110.408.991.645,56 R$ (×1000)</td>\n",
       "    </tr>\n",
       "    <tr>\n",
       "      <th>Rendimento mensal domiciliar per capita</th>\n",
       "      <td>1.918 R$</td>\n",
       "    </tr>\n",
       "    <tr>\n",
       "      <th>Total de veículos</th>\n",
       "      <td>13.481.706 veículos</td>\n",
       "    </tr>\n",
       "  </tbody>\n",
       "</table>\n",
       "</div>"
      ],
      "text/plain": [
       "                                                                     0\n",
       "Governador                                             ROMEU ZEMA NETO\n",
       "Capital                                                 Belo Horizonte\n",
       "Gentílico                                                      mineiro\n",
       "Área Territorial                                       586.513,983 km²\n",
       "População residente                                 20.539.989 pessoas\n",
       "Densidade demográfica                                    35,02 hab/km²\n",
       "Matrículas no ensino fundamental                 2.343.279 matrículas\n",
       "IDH Índice de desenvolvimento humano                            0,774\n",
       "Receitas realizadas                      138.168.422.501,96 R$ (×1000)\n",
       "Despesas empenhadas                      110.408.991.645,56 R$ (×1000)\n",
       "Rendimento mensal domiciliar per capita                       1.918 R$\n",
       "Total de veículos                                  13.481.706 veículos"
      ]
     },
     "execution_count": 33,
     "metadata": {},
     "output_type": "execute_result"
    }
   ],
   "source": [
    "df"
   ]
  },
  {
   "cell_type": "code",
   "execution_count": null,
   "id": "72163e16-1278-4538-b6a7-aacb90f62380",
   "metadata": {},
   "outputs": [],
   "source": []
  }
 ],
 "metadata": {
  "kernelspec": {
   "display_name": "Python 3 (ipykernel)",
   "language": "python",
   "name": "python3"
  },
  "language_info": {
   "codemirror_mode": {
    "name": "ipython",
    "version": 3
   },
   "file_extension": ".py",
   "mimetype": "text/x-python",
   "name": "python",
   "nbconvert_exporter": "python",
   "pygments_lexer": "ipython3",
   "version": "3.12.4"
  }
 },
 "nbformat": 4,
 "nbformat_minor": 5
}
