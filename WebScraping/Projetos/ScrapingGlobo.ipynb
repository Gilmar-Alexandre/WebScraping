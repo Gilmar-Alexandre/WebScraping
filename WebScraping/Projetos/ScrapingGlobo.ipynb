{
 "cells": [
  {
   "cell_type": "code",
   "execution_count": 5,
   "id": "05875894-520d-4da3-97de-6d675d300c6c",
   "metadata": {},
   "outputs": [],
   "source": [
    "import requests\n",
    "from bs4 import BeautifulSoup"
   ]
  },
  {
   "cell_type": "code",
   "execution_count": 13,
   "id": "71886530-9bd8-405b-82e6-a39a0887f2bc",
   "metadata": {},
   "outputs": [],
   "source": [
    "globo_url = 'https://www.globo.com/'\n",
    "page = requests.get(globo_url)"
   ]
  },
  {
   "cell_type": "code",
   "execution_count": 17,
   "id": "99edf3e2-19ab-4180-ac00-a1660c1b2c71",
   "metadata": {},
   "outputs": [],
   "source": [
    "resposta = page.text"
   ]
  },
  {
   "cell_type": "code",
   "execution_count": 19,
   "id": "3654a150-f3f8-4466-9b36-9f220586b3ad",
   "metadata": {},
   "outputs": [],
   "source": [
    "soup = BeautifulSoup(resposta, 'html.parser')"
   ]
  },
  {
   "cell_type": "code",
   "execution_count": 25,
   "id": "3674f61d-6d82-4c81-b090-78d98a69629e",
   "metadata": {},
   "outputs": [],
   "source": [
    "noticias = soup.find_all('h2', {'class':'post__title'})"
   ]
  },
  {
   "cell_type": "code",
   "execution_count": 27,
   "id": "7f11f9a9-2612-4352-8d83-e329e7ccabc7",
   "metadata": {},
   "outputs": [
    {
     "data": {
      "text/plain": [
       "[<h2 class=\"post__title\">São Paulo amplia sobre o Nacional e vai avançando na Libertadores; SIGA</h2>,\n",
       " <h2 class=\"post__title\">Fla encara Bolívar na altitude nas oitavas da Libertadores; PRÉ</h2>,\n",
       " <h2 class=\"post__title\">Fla leva 12 cilindros de oxigênio e reforça DM</h2>,\n",
       " <h2 class=\"post__title\">SP: corrida eleitoral tem empate técnico triplo, diz Datafolha</h2>,\n",
       " <h2 class=\"post__title\">Blog: alta de Marçal liga alerta no comitê de Nunes</h2>,\n",
       " <h2 class=\"post__title\">Blog: tática bolsonarista é usada contra Bolsonaros</h2>,\n",
       " <h2 class=\"post__title\">Veja pesquisa por idade, sexo, renda e religião</h2>,\n",
       " <h2 class=\"post__title\">Aliado de Maduro dá recado e cita o Brasil: 'Escutou, Amorim?'</h2>,\n",
       " <h2 class=\"post__title\">Corte dá vitória a Maduro e proíbe exibição de atas</h2>,\n",
       " <h2 class=\"post__title\">Ex-assessor de Moraes depõe à PF e tem o celular retido</h2>,\n",
       " <h2 class=\"post__title\">STF mantém regras sobre demissão sem justa causa</h2>,\n",
       " <h2 class=\"post__title\">Base alemã da Otan é esvaziada após alerta de ameaça</h2>,\n",
       " <h2 class=\"post__title\">Rússia mira jornalista que mostrou incursão rival</h2>,\n",
       " <h2 class=\"post__title\">Família de Silvio Santos impõe restrições a visitação</h2>,\n",
       " <h2 class=\"post__title\">O que diz a tradição judaica sobre o 7° dia</h2>,\n",
       " <h2 class=\"post__title\">SIGA: Athletico, com um a menos, abre placar sobre o Belgrano fora pela Sula</h2>,\n",
       " <h2 class=\"post__title\">Lateral do Furacão leva vermelho direto após dividida; veja o lance</h2>,\n",
       " <h2 class=\"post__title\">Cruzeiro recebe Boca no Mineirão e busca virada nas oitavas da Sula; PRÉ</h2>,\n",
       " <h2 class=\"post__title\">Em jogo de viradas, Cruzeiro elimina Galo do Brasileiro Sub-17</h2>,\n",
       " <h2 class=\"post__title\">Atacante Pedro é dúvida para convocação, mas Luiz Henrique não preocupa</h2>,\n",
       " <h2 class=\"post__title\">Negociação entre Rennes e Fla por Fabrício Bruno esfria</h2>,\n",
       " <h2 class=\"post__title\">SIGA: Avaí pega Paysandu na Ressacada pela Série B</h2>,\n",
       " <h2 class=\"post__title\">PRÉ-JOGO: Sport recebe Coritiba</h2>,\n",
       " <h2 class=\"post__title\">Em 'Renascer', Ritinha vai para a cama com Eriberto: 'E se ele descobrir?'</h2>,\n",
       " <h2 class=\"post__title\">Bumba misterioso deixa José Inocêncio à beira da morte</h2>,\n",
       " <h2 class=\"post__title\">Unna X acusa cantor de vazar informações no 'Estrela': 'Não é confiável'</h2>,\n",
       " <h2 class=\"post__title\">Estrela da Semana: veja grupo vencedor do 2º workshop</h2>,\n",
       " <h2 class=\"post__title\">Nick aponta situações e critica Unna X: 'Surreal a cara de pau'</h2>,\n",
       " <h2 class=\"post__title\">Rebeca Andrade e Jade Barbosa se divertem dançando no ginásio</h2>,\n",
       " <h2 class=\"post__title\">Presa desde 1992: orca mais solitária é filmada quase imóvel por 24h na Argentina</h2>,\n",
       " <h2 class=\"post__title\">Preta Gil comunica retomada do tratamento contra o câncer; entenda diagnóstico</h2>,\n",
       " <h2 class=\"post__title\">Mega-Sena divulga os números sorteados para prêmio de R$ 24 milhões; confira as dezenas</h2>,\n",
       " <h2 class=\"post__title\">Zé Neto passará por tratamento, e shows com Cristiano são cancelados por 90 dias</h2>,\n",
       " <h2 class=\"post__title\">Confira lista com 5 bons carros usados automáticos com preços de até R$ 60 mil</h2>,\n",
       " <h2 class=\"post__title\">Cânion com 8 metros de profundidade seca e prejudica turismo em município de MT; vídeo</h2>,\n",
       " <h2 class=\"post__title\">Punido por manipulação, Alef Manga tem pauta retirada no STJD e afirma: 'Injustiça'</h2>,\n",
       " <h2 class=\"post__title\">Time erra de propósito todos os 'pênaltis de exibição' em protesto contra juiz</h2>,\n",
       " <h2 class=\"post__title\">SIGA brasileiros na disputa das oitavas da etapa de Fiji no surfe; Tatiana Webb avança às quartas</h2>,\n",
       " <h2 class=\"post__title\">Reforço do Chelsea perde gol inacreditável em jogo da Liga Conferência; vídeo</h2>,\n",
       " <h2 class=\"post__title\">Com jacuzzi exclusiva, camarote para o jogo da NFL no Brasil pode chegar a R$300 mil</h2>,\n",
       " <h2 class=\"post__title\">Conheça a luxuosa mansão de Michael Jordan e entenda por que ninguém quer comprá-la</h2>,\n",
       " <h2 class=\"post__title\">Medalhistas olímpicos em Paris, atletas militares recebem condecoração do Exército</h2>,\n",
       " <h2 class=\"post__title\">Danton Mello fala de nova novela, da morte da mãe e das filhas que moram fora do país</h2>,\n",
       " <h2 class=\"post__title\">Gabi Martins aposta em minissaia e decote para segundo dia de Festa do Peão</h2>,\n",
       " <h2 class=\"post__title\">De cinta, Jojo Todynho mostra evolução após cirurgias na barriga e nos seios; veja</h2>,\n",
       " <h2 class=\"post__title\">De volta ao RJ, Anitta posta foto no colo da mãe e admite: 'Vontade de largar tudo e morar aqui'</h2>,\n",
       " <h2 class=\"post__title\">Ex-Malhação Renata Sayuri fala sobre tratamento psiquiátrico em clínica de reabilitação</h2>,\n",
       " <h2 class=\"post__title\">Valentina Francavilla fala de perder 29kg e cita fala sobre Preta Gil: 'Foi horrível. Bem-feito pra mim'</h2>,\n",
       " <h2 class=\"post__title\">É possível ser viciado em pornografia, como relatou influencer Gustavo Tubarão?</h2>,\n",
       " <h2 class=\"post__title\">Quando alguém pode ser expulso e proibido de morar no próprio apartamento</h2>,\n",
       " <h2 class=\"post__title\">Como preparar sua casa para receber um novo pet? Veja cuidados necessários</h2>,\n",
       " <h2 class=\"post__title\">Onça-pintada escapa de fogo no Pantanal ao se esconder em manilha</h2>,\n",
       " <h2 class=\"post__title\">Jiboia de 2m é achada em gaveta de guarda-roupa no Ceará</h2>,\n",
       " <h2 class=\"post__title\">Tesla corta 500 mil árvores na Alemanha para construção de fábrica</h2>,\n",
       " <h2 class=\"post__title\">Brinquedoteca, quarto do 3º filho e mais: Virginia revela obra em mansão</h2>,\n",
       " <h2 class=\"post__title\">Quinota termina o casamento com Artur: 'Eu ia te falar, Quinota'</h2>,\n",
       " <h2 class=\"post__title\">Beijo Lupiter enlouquece fãs do casal; veja o vídeo</h2>,\n",
       " <h2 class=\"post__title\">Decoradora mostra detalhes do projeto da festa de 15 anos de Rafa Justus</h2>,\n",
       " <h2 class=\"post__title\">Mini Air Fryer vale a pena? Conheça modelo que faz sucesso na web</h2>,\n",
       " <h2 class=\"post__title\">Onda de calor: 5 apps para não passar sufoco durante o alerta vermelho</h2>,\n",
       " <h2 class=\"post__title\">8 coisas irritantes que você nunca deveria fazer no WhatsApp</h2>,\n",
       " <h2 class=\"post__title\">Conhece o 'Modo Batman' no WhatsApp? Veja como ativá-lo </h2>,\n",
       " <h2 class=\"post__title\">O Brasil sufocado pela fumaça: corredor cinza afeta mais de mil cidades, e seca piora condições</h2>,\n",
       " <h2 class=\"post__title\">Silvio, o maior apresentador da TV brasileira: Natuza conversa com Serginho e André Barcinski</h2>,\n",
       " <h2 class=\"post__title\">Encontre os melhores podcasts da Globo em um só lugar; aperte o play e divirta-se</h2>]"
      ]
     },
     "execution_count": 27,
     "metadata": {},
     "output_type": "execute_result"
    }
   ],
   "source": [
    "noticias"
   ]
  },
  {
   "cell_type": "code",
   "execution_count": 35,
   "id": "0155e6bf-49b4-44a3-a24a-ed47f659c57d",
   "metadata": {},
   "outputs": [
    {
     "name": "stdout",
     "output_type": "stream",
     "text": [
      "São Paulo amplia sobre o Nacional e vai avançando na Libertadores; SIGA\n",
      "Fla encara Bolívar na altitude nas oitavas da Libertadores; PRÉ\n",
      "Fla leva 12 cilindros de oxigênio e reforça DM\n",
      "SP: corrida eleitoral tem empate técnico triplo, diz Datafolha\n",
      "Blog: alta de Marçal liga alerta no comitê de Nunes\n",
      "Blog: tática bolsonarista é usada contra Bolsonaros\n",
      "Veja pesquisa por idade, sexo, renda e religião\n",
      "Aliado de Maduro dá recado e cita o Brasil: 'Escutou, Amorim?'\n",
      "Corte dá vitória a Maduro e proíbe exibição de atas\n",
      "Ex-assessor de Moraes depõe à PF e tem o celular retido\n",
      "STF mantém regras sobre demissão sem justa causa\n",
      "Base alemã da Otan é esvaziada após alerta de ameaça\n",
      "Rússia mira jornalista que mostrou incursão rival\n",
      "Família de Silvio Santos impõe restrições a visitação\n",
      "O que diz a tradição judaica sobre o 7° dia\n",
      "SIGA: Athletico, com um a menos, abre placar sobre o Belgrano fora pela Sula\n",
      "Lateral do Furacão leva vermelho direto após dividida; veja o lance\n",
      "Cruzeiro recebe Boca no Mineirão e busca virada nas oitavas da Sula; PRÉ\n",
      "Em jogo de viradas, Cruzeiro elimina Galo do Brasileiro Sub-17\n",
      "Atacante Pedro é dúvida para convocação, mas Luiz Henrique não preocupa\n",
      "Negociação entre Rennes e Fla por Fabrício Bruno esfria\n",
      "SIGA: Avaí pega Paysandu na Ressacada pela Série B\n",
      "PRÉ-JOGO: Sport recebe Coritiba\n",
      "Em 'Renascer', Ritinha vai para a cama com Eriberto: 'E se ele descobrir?'\n",
      "Bumba misterioso deixa José Inocêncio à beira da morte\n",
      "Unna X acusa cantor de vazar informações no 'Estrela': 'Não é confiável'\n",
      "Estrela da Semana: veja grupo vencedor do 2º workshop\n",
      "Nick aponta situações e critica Unna X: 'Surreal a cara de pau'\n",
      "Rebeca Andrade e Jade Barbosa se divertem dançando no ginásio\n",
      "Presa desde 1992: orca mais solitária é filmada quase imóvel por 24h na Argentina\n",
      "Preta Gil comunica retomada do tratamento contra o câncer; entenda diagnóstico\n",
      "Mega-Sena divulga os números sorteados para prêmio de R$ 24 milhões; confira as dezenas\n",
      "Zé Neto passará por tratamento, e shows com Cristiano são cancelados por 90 dias\n",
      "Confira lista com 5 bons carros usados automáticos com preços de até R$ 60 mil\n",
      "Cânion com 8 metros de profundidade seca e prejudica turismo em município de MT; vídeo\n",
      "Punido por manipulação, Alef Manga tem pauta retirada no STJD e afirma: 'Injustiça'\n",
      "Time erra de propósito todos os 'pênaltis de exibição' em protesto contra juiz\n",
      "SIGA brasileiros na disputa das oitavas da etapa de Fiji no surfe; Tatiana Webb avança às quartas\n",
      "Reforço do Chelsea perde gol inacreditável em jogo da Liga Conferência; vídeo\n",
      "Com jacuzzi exclusiva, camarote para o jogo da NFL no Brasil pode chegar a R$300 mil\n",
      "Conheça a luxuosa mansão de Michael Jordan e entenda por que ninguém quer comprá-la\n",
      "Medalhistas olímpicos em Paris, atletas militares recebem condecoração do Exército\n",
      "Danton Mello fala de nova novela, da morte da mãe e das filhas que moram fora do país\n",
      "Gabi Martins aposta em minissaia e decote para segundo dia de Festa do Peão\n",
      "De cinta, Jojo Todynho mostra evolução após cirurgias na barriga e nos seios; veja\n",
      "De volta ao RJ, Anitta posta foto no colo da mãe e admite: 'Vontade de largar tudo e morar aqui'\n",
      "Ex-Malhação Renata Sayuri fala sobre tratamento psiquiátrico em clínica de reabilitação\n",
      "Valentina Francavilla fala de perder 29kg e cita fala sobre Preta Gil: 'Foi horrível. Bem-feito pra mim'\n",
      "É possível ser viciado em pornografia, como relatou influencer Gustavo Tubarão?\n",
      "Quando alguém pode ser expulso e proibido de morar no próprio apartamento\n",
      "Como preparar sua casa para receber um novo pet? Veja cuidados necessários\n",
      "Onça-pintada escapa de fogo no Pantanal ao se esconder em manilha\n",
      "Jiboia de 2m é achada em gaveta de guarda-roupa no Ceará\n",
      "Tesla corta 500 mil árvores na Alemanha para construção de fábrica\n",
      "Brinquedoteca, quarto do 3º filho e mais: Virginia revela obra em mansão\n",
      "Quinota termina o casamento com Artur: 'Eu ia te falar, Quinota'\n",
      "Beijo Lupiter enlouquece fãs do casal; veja o vídeo\n",
      "Decoradora mostra detalhes do projeto da festa de 15 anos de Rafa Justus\n",
      "Mini Air Fryer vale a pena? Conheça modelo que faz sucesso na web\n",
      "Onda de calor: 5 apps para não passar sufoco durante o alerta vermelho\n",
      "8 coisas irritantes que você nunca deveria fazer no WhatsApp\n",
      "Conhece o 'Modo Batman' no WhatsApp? Veja como ativá-lo \n",
      "O Brasil sufocado pela fumaça: corredor cinza afeta mais de mil cidades, e seca piora condições\n",
      "Silvio, o maior apresentador da TV brasileira: Natuza conversa com Serginho e André Barcinski\n",
      "Encontre os melhores podcasts da Globo em um só lugar; aperte o play e divirta-se\n"
     ]
    }
   ],
   "source": [
    "for i in range(len(noticias)):\n",
    "    print(noticias[i].text)"
   ]
  },
  {
   "cell_type": "code",
   "execution_count": null,
   "id": "070537b0-71be-46df-9bbc-4ad6d1284e68",
   "metadata": {},
   "outputs": [],
   "source": []
  }
 ],
 "metadata": {
  "kernelspec": {
   "display_name": "Python 3 (ipykernel)",
   "language": "python",
   "name": "python3"
  },
  "language_info": {
   "codemirror_mode": {
    "name": "ipython",
    "version": 3
   },
   "file_extension": ".py",
   "mimetype": "text/x-python",
   "name": "python",
   "nbconvert_exporter": "python",
   "pygments_lexer": "ipython3",
   "version": "3.12.4"
  }
 },
 "nbformat": 4,
 "nbformat_minor": 5
}
